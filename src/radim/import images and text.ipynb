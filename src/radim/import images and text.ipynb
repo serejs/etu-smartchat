{
  "nbformat": 4,
  "nbformat_minor": 0,
  "metadata": {
    "colab": {
      "provenance": [],
      "gpuType": "T4"
    },
    "kernelspec": {
      "name": "python3",
      "display_name": "Python 3"
    },
    "language_info": {
      "name": "python"
    },
    "accelerator": "GPU"
  },
  "cells": [
    {
      "cell_type": "code",
      "execution_count": null,
      "metadata": {
        "colab": {
          "base_uri": "https://localhost:8080/"
        },
        "id": "m7xoYebbhVhv",
        "outputId": "84cd97cc-a153-4b81-9b16-50a566fec0b6"
      },
      "outputs": [
        {
          "output_type": "stream",
          "name": "stdout",
          "text": [
            "Requirement already satisfied: PyMuPDF in /usr/local/lib/python3.10/dist-packages (1.25.5)\n"
          ]
        }
      ],
      "source": [
        "!pip install PyMuPDF\n",
        "import fitz  # PyMuPDF\n",
        "from PIL import Image\n",
        "import io\n",
        "import os\n",
        "\n",
        "\n",
        "def extract_images(file_path) -> list[Image.Image]:\n",
        "    \"\"\"\n",
        "    Извлекает встроенные изображения из PDF и возвращает список PIL.Image.\n",
        "    принимает путь до pdf файла\n",
        "    возвращает список списков картинок\n",
        "    \"\"\"\n",
        "    if not os.path.exists(file_path):\n",
        "        raise FileNotFoundError(f\"Файл {file_path} не найден\")\n",
        "\n",
        "    doc = fitz.open(file_path)\n",
        "    images = [[] for _ in range(len(doc))]\n",
        "    seen_xrefs = set()  # Для избежания дубликатов\n",
        "\n",
        "    for page_num,page in enumerate(doc):\n",
        "        img_list = page.get_images(full=True)\n",
        "\n",
        "        for img_info in img_list:\n",
        "            xref = img_info[0]\n",
        "            if xref in seen_xrefs:\n",
        "                continue\n",
        "            seen_xrefs.add(xref)\n",
        "\n",
        "            try:\n",
        "                base_image = doc.extract_image(xref)\n",
        "                image_data = base_image[\"image\"]\n",
        "                image = Image.open(io.BytesIO(image_data))\n",
        "                images[page_num].append(image)\n",
        "            except Exception as e:\n",
        "                print(f\"Ошибка при извлечении изображения (xref={xref}): {e}\")\n",
        "\n",
        "    doc.close()\n",
        "    return images"
      ]
    },
    {
      "cell_type": "code",
      "source": [
        "images = extract_images(\"/content/RNN.pdf\")\n",
        "\n",
        "# Сохранить изображения\n",
        "for i, img in enumerate(images):\n",
        "  for j,imgj in enumerate(img):\n",
        "    imgj.save(f\"image_{i}.png\")"
      ],
      "metadata": {
        "id": "IiOncBjbhmzh"
      },
      "execution_count": null,
      "outputs": []
    },
    {
      "cell_type": "code",
      "source": [
        "print(f\"PyMuPDF version: {fitz.__doc__.split(' ')[1]}\")\n",
        "print(f\"pytesseract version: {pytesseract.__version__}\")"
      ],
      "metadata": {
        "id": "RAVN18ZqoN7A",
        "outputId": "2a122fa9-e226-4528-fe3a-09f396f9e981",
        "colab": {
          "base_uri": "https://localhost:8080/"
        }
      },
      "execution_count": null,
      "outputs": [
        {
          "output_type": "stream",
          "name": "stdout",
          "text": [
            "PyMuPDF version: 1.25.5:\n",
            "pytesseract version: 0.3.13\n"
          ]
        }
      ]
    },
    {
      "cell_type": "code",
      "source": [
        "!sudo apt update\n",
        "!sudo apt install tesseract-ocr -y\n",
        "!sudo apt install libtesseract-dev -y\n",
        "!sudo apt install tesseract-ocr-eng -y  # Для английского языка\n",
        "!sudo apt install tesseract-ocr-rus -y  # Для русского языка\n",
        "%pip install PyMuPDF pytesseract\n",
        "import fitz  # PyMuPDF\n",
        "import pytesseract\n",
        "from PIL import Image\n",
        "import io\n",
        "import os\n",
        "import json\n",
        "\"\"\"\n",
        "для colab\n",
        "\n",
        "\"\"\"\n",
        "\n",
        "def extract_text(pres_path) -> None:\n",
        "    \"\"\"\n",
        "    извлекает текст из pdf файла\n",
        "    принимает путь до файла и создает файл с именем file формата json\n",
        "    структура:\n",
        "          \"amount_slides\": int - число слайдов,\n",
        "          \"titles\": list - заголовки(первые строки) страниц,\n",
        "          \"bodies\": list - тело страниц,\n",
        "          \"text_images\": list[list] - распознаный текст с картинок\n",
        "    \"\"\"\n",
        "    pdf_filename = os.path.basename(pres_path)\n",
        "    json_filename = os.path.splitext(pdf_filename)[0] + \".json\"\n",
        "    output = {\n",
        "        \"amount_slides\": 0,\n",
        "        \"titles\": [],\n",
        "        \"bodies\": [],\n",
        "        \"text_images\": []\n",
        "    }\n",
        "\n",
        "    doc = fitz.open(pres_path)\n",
        "    output[\"amount_slides\"] = len(doc)\n",
        "\n",
        "    for page_num, page in enumerate(doc):\n",
        "        # Извлечение заголовка\n",
        "        title = \"\"\n",
        "        blocks = page.get_text(\"dict\")[\"blocks\"]\n",
        "        for block in blocks:\n",
        "            if \"lines\" in block and block[\"type\"] == 0:\n",
        "                for line in block[\"lines\"]:\n",
        "                    for span in line[\"spans\"]:\n",
        "                        if not title and span[\"text\"].strip():\n",
        "                            title = span[\"text\"].strip()\n",
        "                            break\n",
        "                if title:\n",
        "                    break\n",
        "        output[\"titles\"].append(title)\n",
        "\n",
        "        # Извлечение основного текста\n",
        "        full_text = page.get_text().strip()\n",
        "        body = full_text.replace(title, \"\", 1).strip() if title else full_text\n",
        "        output[\"bodies\"].append(body)\n",
        "\n",
        "        # Извлечение текста из изображений текущего слайда\n",
        "        slide_images_text = []\n",
        "        img_list = page.get_images(full=True)\n",
        "\n",
        "        for img_info in img_list:\n",
        "            xref = img_info[0]\n",
        "            try:\n",
        "                base_image = doc.extract_image(xref)\n",
        "                image_data = base_image[\"image\"]\n",
        "                img = Image.open(io.BytesIO(image_data))\n",
        "                text = pytesseract.image_to_string(img, lang=\"rus+eng\").strip()\n",
        "                if text:\n",
        "                    slide_images_text.append(text)\n",
        "            except Exception as e:\n",
        "                print(f\"Ошибка в слайде {page_num + 1}: {e}\")\n",
        "\n",
        "        output[\"text_images\"].append(slide_images_text)\n",
        "\n",
        "    doc.close()\n",
        "\n",
        "    # Сохранение в JSON\n",
        "    with open(json_filename, \"w\", encoding=\"utf-8\") as f:\n",
        "        json.dump(output, f, ensure_ascii=False, indent=4)"
      ],
      "metadata": {
        "colab": {
          "base_uri": "https://localhost:8080/"
        },
        "id": "OOZv5qN_kv-i",
        "outputId": "d4ddcedc-9762-4369-f501-219ddfdb4f74"
      },
      "execution_count": 6,
      "outputs": [
        {
          "output_type": "stream",
          "name": "stdout",
          "text": [
            "Get:1 http://security.ubuntu.com/ubuntu jammy-security InRelease [129 kB]\n",
            "Hit:2 http://archive.ubuntu.com/ubuntu jammy InRelease\n",
            "Hit:3 https://cloud.r-project.org/bin/linux/ubuntu jammy-cran40/ InRelease\n",
            "Get:4 http://archive.ubuntu.com/ubuntu jammy-updates InRelease [128 kB]\n",
            "Hit:5 https://r2u.stat.illinois.edu/ubuntu jammy InRelease\n",
            "Hit:6 http://archive.ubuntu.com/ubuntu jammy-backports InRelease\n",
            "Hit:7 https://developer.download.nvidia.com/compute/cuda/repos/ubuntu2204/x86_64  InRelease\n",
            "Hit:8 https://ppa.launchpadcontent.net/deadsnakes/ppa/ubuntu jammy InRelease\n",
            "Hit:9 https://ppa.launchpadcontent.net/graphics-drivers/ppa/ubuntu jammy InRelease\n",
            "Hit:10 https://ppa.launchpadcontent.net/ubuntugis/ppa/ubuntu jammy InRelease\n",
            "Fetched 257 kB in 1s (183 kB/s)\n",
            "Reading package lists... Done\n",
            "Building dependency tree... Done\n",
            "Reading state information... Done\n",
            "262 packages can be upgraded. Run 'apt list --upgradable' to see them.\n",
            "\u001b[1;33mW: \u001b[0mSkipping acquire of configured file 'main/source/Sources' as repository 'https://r2u.stat.illinois.edu/ubuntu jammy InRelease' does not seem to provide it (sources.list entry misspelt?)\u001b[0m\n",
            "Reading package lists... Done\n",
            "Building dependency tree... Done\n",
            "Reading state information... Done\n",
            "tesseract-ocr is already the newest version (4.1.1-2.1build1).\n",
            "0 upgraded, 0 newly installed, 0 to remove and 262 not upgraded.\n",
            "Reading package lists... Done\n",
            "Building dependency tree... Done\n",
            "Reading state information... Done\n",
            "libtesseract-dev is already the newest version (4.1.1-2.1build1).\n",
            "0 upgraded, 0 newly installed, 0 to remove and 262 not upgraded.\n",
            "Reading package lists... Done\n",
            "Building dependency tree... Done\n",
            "Reading state information... Done\n",
            "tesseract-ocr-eng is already the newest version (1:4.00~git30-7274cfa-1.1).\n",
            "0 upgraded, 0 newly installed, 0 to remove and 262 not upgraded.\n",
            "Reading package lists... Done\n",
            "Building dependency tree... Done\n",
            "Reading state information... Done\n",
            "tesseract-ocr-rus is already the newest version (1:4.00~git30-7274cfa-1.1).\n",
            "0 upgraded, 0 newly installed, 0 to remove and 262 not upgraded.\n",
            "Requirement already satisfied: PyMuPDF in /usr/local/lib/python3.10/dist-packages (1.25.5)\n",
            "Requirement already satisfied: pytesseract in /usr/local/lib/python3.10/dist-packages (0.3.13)\n",
            "Requirement already satisfied: packaging>=21.3 in /usr/local/lib/python3.10/dist-packages (from pytesseract) (24.2)\n",
            "Requirement already satisfied: Pillow>=8.0.0 in /usr/local/lib/python3.10/dist-packages (from pytesseract) (11.0.0)\n"
          ]
        }
      ]
    },
    {
      "cell_type": "code",
      "source": [
        "extract_text('/content/RNN.pdf')"
      ],
      "metadata": {
        "id": "Df_3CmESk0WT"
      },
      "execution_count": 7,
      "outputs": []
    }
  ]
}